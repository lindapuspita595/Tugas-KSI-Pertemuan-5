{
  "nbformat": 4,
  "nbformat_minor": 0,
  "metadata": {
    "colab": {
      "provenance": []
    },
    "kernelspec": {
      "name": "python3",
      "display_name": "Python 3"
    },
    "language_info": {
      "name": "python"
    }
  },
  "cells": [
    {
      "cell_type": "code",
      "source": [
        "def encrypt_message(message, num_columns):\n",
        "    # Menginisialisasi matriks kosong untuk menyimpan pesan yang dienkripsi\n",
        "    encrypted_matrix = [''] * num_columns\n",
        "\n",
        "    # Mengisi matriks dengan pesan yang akan dienkripsi\n",
        "    for col in range(num_columns):\n",
        "        pointer = col\n",
        "        while pointer < len(message):\n",
        "            encrypted_matrix[col] += message[pointer]\n",
        "            pointer += num_columns\n",
        "\n",
        "    # Menggabungkan pesan yang dienkripsi dari matriks menjadi satu string\n",
        "    encrypted_message = ''.join(encrypted_matrix)\n",
        "    return encrypted_message\n",
        "\n",
        "\n",
        "def decrypt_message(message, num_columns):\n",
        "    # Menghitung jumlah baris yang dibutuhkan berdasarkan panjang pesan dan jumlah kolom\n",
        "    num_rows = -(-len(message) // num_columns)\n",
        "\n",
        "    # Menginisialisasi matriks kosong untuk menyimpan pesan yang didekripsi\n",
        "    decrypted_matrix = [''] * num_rows\n",
        "\n",
        "    # Menghitung jumlah \"kotak\" dalam matriks yang tidak diisi untuk pesan yang pendek\n",
        "    num_empty_boxes = num_columns * num_rows - len(message)\n",
        "\n",
        "    # Menginisialisasi variabel pointer untuk mengatur indeks pesan yang didekripsi\n",
        "    col = 0\n",
        "    row = 0\n",
        "\n",
        "    # Mengisi matriks dengan pesan yang akan didekripsi\n",
        "    for symbol in message:\n",
        "        decrypted_matrix[row] += symbol\n",
        "        row += 1  # Beralih ke baris berikutnya\n",
        "\n",
        "        # Mengatur pointer baris dan kolom\n",
        "        if (row == num_rows) or (row == num_rows - 1 and col >= num_columns - num_empty_boxes):\n",
        "            row = 0\n",
        "            col += 1\n",
        "\n",
        "    # Menggabungkan pesan yang didekripsi dari matriks menjadi satu string\n",
        "    decrypted_message = ''.join(decrypted_matrix)\n",
        "    return decrypted_message\n",
        "\n",
        "\n",
        "def main():\n",
        "  # Meminta pengguna untuk memasukkan pesan, jumlah kolom, dan pilihan enkripsi/dekripsi\n",
        "    message = input(\"Masukkan pesan: \").strip()\n",
        "    if not message.replace(\" \", \"\").isalpha():\n",
        "      print(\"Inputan Anda tidak valid.\")\n",
        "      return\n",
        "    num_columns = int(input(\"Masukkan jumlah kolom: \"))\n",
        "    choice = input(\"Apakah Anda ingin encrypt atau decrypt? (e/d): \").strip().lower()\n",
        "\n",
        "    if choice == 'e':\n",
        "        encrypted_message = encrypt_message(message, num_columns)\n",
        "        print(\"Pesan yang dienkripsi:\", encrypted_message)\n",
        "    elif choice == 'd':\n",
        "        decrypted_message = decrypt_message(message, num_columns)\n",
        "        print(\"Pesan yang didekripsi:\", decrypted_message)\n",
        "    else:\n",
        "        print(\"Pilihan tidak valid. Silakan masukkan 'encrypt' atau 'decrypt'.\")\n",
        "\n",
        "\n",
        "if __name__ == \"__main__\":\n",
        "    main()"
      ],
      "metadata": {
        "colab": {
          "base_uri": "https://localhost:8080/"
        },
        "id": "GGTHoiNOjp60",
        "outputId": "d9aeedea-519d-4505-c41f-d4206e9540a7"
      },
      "execution_count": 101,
      "outputs": [
        {
          "output_type": "stream",
          "name": "stdout",
          "text": [
            "Masukkan pesan: PAETAUUWALLDABI\n",
            "Masukkan jumlah kolom: 3\n",
            "Apakah Anda ingin encrypt atau decrypt? (e/d): d\n",
            "Pesan yang didekripsi: PULAUDEWATABALI\n"
          ]
        }
      ]
    },
    {
      "cell_type": "code",
      "source": [
        "def shift_char(char, shift):\n",
        "  # Menentukan basis sesuai dengan huruf kecil atau besar\n",
        "  base = ord('a') if char.islower() else ord('A')\n",
        "  # Menghitung karakter setelah digeser dan memastikan tetap dalam rentang alfabet\n",
        "  return chr((ord(char) - base + shift) % 26 + base)\n",
        "\n",
        "def encrypt(message, shift):\n",
        "    # Menggunakan generator expression untuk mengubah setiap karakter dalam teks dengan memanggil fungsi shift_char\n",
        "    return ''.join(shift_char(char, shift) for char in message)\n",
        "\n",
        "def decrypt(message, shift):\n",
        "    # Dekripsi dilakukan dengan menggunakan enkripsi dan pergeseran yang berlawanan\n",
        "    return encrypt(message, -shift)\n",
        "\n",
        "def main():\n",
        "    # Meminta pengguna untuk memasukkan pesan, jumlah pergeseran, dan pilihan enkripsi/dekripsi\n",
        "    message = input(\"Masukkan pesan: \")\n",
        "    if not message.replace(\" \", \"\").isalpha():\n",
        "      print(\"Inputan Anda tidak valid.\")\n",
        "      return\n",
        "    shift = int(input(\"Berapa geseran? \"))\n",
        "    choice = input(\"Encrypt (e) atau Decrypt (d)? \").lower()\n",
        "\n",
        "    if choice == 'e':\n",
        "        result = encrypt(message, shift)\n",
        "        print(\"Hasil enkripsi:\", result)\n",
        "    elif choice == 'd':\n",
        "        result = decrypt(message, shift)\n",
        "        print(\"Hasil dekripsi:\", result)\n",
        "    else:\n",
        "        print(\"Pilihan tidak valid.\")\n",
        "\n",
        "if __name__ == \"__main__\":\n",
        "    main()"
      ],
      "metadata": {
        "id": "mIiDPEB1eZOK",
        "colab": {
          "base_uri": "https://localhost:8080/"
        },
        "outputId": "bfae9414-0c79-4ab2-f640-274a4f1d8eb8"
      },
      "execution_count": 104,
      "outputs": [
        {
          "output_type": "stream",
          "name": "stdout",
          "text": [
            "Masukkan pesan: VHODPDWSDJL\n",
            "Berapa geseran? 3\n",
            "Encrypt (e) atau Decrypt (d)? d\n",
            "Hasil dekripsi: SELAMATPAGI\n"
          ]
        }
      ]
    }
  ]
}